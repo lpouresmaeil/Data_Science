{
 "cells": [
  {
   "cell_type": "markdown",
   "metadata": {},
   "source": [
    "# Word Count\n",
    "\n",
    "Download the source files from www.edx.org . Python for Data Science by UCSanDiegoX: DSE200x. Week 2\n",
    "Included in the source files are:\n",
    "1. word_cloud.py <- Starter file if you wish to use it\n",
    "2. 98-0.txt <- Tale of Two Cities, by Charles Dickens. Credit to Project Gutenberg.\n",
    "3. stopwords <- common words to exclude. Credit to Andreas Mueller.\n",
    "\n",
    "To complete this assignment, you will want to read and clean the input, then count the frequencies of each word. Remember that the data science process involves some pre-processing, then consists of some analysis itself. \n",
    "\n",
    "Optionally, you can also filter out common words (“the”, “this”, “and”, etc.) by excluding words which appear in the stopwords file.\n",
    "\n",
    "Overall, your approach will be:\n",
    "\n",
    "\n",
    "- Create a data structure to store the words and the number of occurrences of the word.\n",
    "- Read in each word from the file, making it lower case and removing punctuation. (Optionally, skip common words).\n",
    "          For each remaining word, add the word to the data structure or update your count for the word\n",
    "- Extract the top ten most frequently occurring words from your data structure and print them, along with their frequencies."
   ]
  },
  {
   "cell_type": "code",
   "execution_count": 24,
   "metadata": {
    "collapsed": true
   },
   "outputs": [],
   "source": [
    "import collections\n",
    "import nltk"
   ]
  },
  {
   "cell_type": "code",
   "execution_count": 25,
   "metadata": {
    "collapsed": true
   },
   "outputs": [],
   "source": [
    "from nltk.corpus import stopwords"
   ]
  },
  {
   "cell_type": "code",
   "execution_count": 26,
   "metadata": {
    "collapsed": true
   },
   "outputs": [],
   "source": [
    "file=open('C:/Users/laya/Desktop/word_cloud/98-0.txt',encoding=\"utf8\")"
   ]
  },
  {
   "cell_type": "code",
   "execution_count": 27,
   "metadata": {
    "collapsed": true
   },
   "outputs": [],
   "source": [
    "# create a data structure\n",
    "# the exercise asked for creating data structure to store the words and the number of occurance, so we need a dictionary\n",
    "wordcount={}"
   ]
  },
  {
   "cell_type": "code",
   "execution_count": 28,
   "metadata": {
    "collapsed": true
   },
   "outputs": [],
   "source": [
    "#creating a list of stop words to exclude them from the text\n",
    "stop_word=list(stopwords.words(\"english\"))"
   ]
  },
  {
   "cell_type": "code",
   "execution_count": 29,
   "metadata": {
    "collapsed": true
   },
   "outputs": [],
   "source": [
    "#Instantiate a dictionary, and for every word in the file, \n",
    "#add to the dictionary if it doesn't exist. If it does, increase the count.\n",
    "for word in file.read().lower().split():\n",
    "    word.replace(\",\",\"\")\n",
    "    word.replace(\",\",\"\")\n",
    "    word.replace(\"\\\"\",\"\")\n",
    "    word.replace('\"',\"\")\n",
    "    if word not in stop_word:\n",
    "        if word not in wordcount:\n",
    "            wordcount[word]=1\n",
    "        else:\n",
    "            wordcount[word] +=1\n",
    "        "
   ]
  },
  {
   "cell_type": "code",
   "execution_count": 30,
   "metadata": {
    "collapsed": true
   },
   "outputs": [],
   "source": [
    "# sort data structure\n",
    "d = collections.Counter(wordcount)"
   ]
  },
  {
   "cell_type": "code",
   "execution_count": 31,
   "metadata": {},
   "outputs": [
    {
     "name": "stdout",
     "output_type": "stream",
     "text": [
      "mr. :  602\n",
      "said :  570\n",
      "“i :  400\n",
      "one :  364\n",
      "would :  330\n",
      "upon :  281\n",
      "could :  266\n",
      "little :  253\n",
      "it, :  231\n",
      "him, :  226\n"
     ]
    }
   ],
   "source": [
    "# select top 10\n",
    "for word, count in d.most_common(10):\n",
    "\tprint(word, \": \", count)"
   ]
  },
  {
   "cell_type": "code",
   "execution_count": null,
   "metadata": {
    "collapsed": true
   },
   "outputs": [],
   "source": []
  }
 ],
 "metadata": {
  "kernelspec": {
   "display_name": "Python 3",
   "language": "python",
   "name": "python3"
  },
  "language_info": {
   "codemirror_mode": {
    "name": "ipython",
    "version": 3
   },
   "file_extension": ".py",
   "mimetype": "text/x-python",
   "name": "python",
   "nbconvert_exporter": "python",
   "pygments_lexer": "ipython3",
   "version": "3.6.3"
  }
 },
 "nbformat": 4,
 "nbformat_minor": 2
}
