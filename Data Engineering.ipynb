{
 "cells": [
  {
   "cell_type": "markdown",
   "metadata": {},
   "source": [
    "### imprting libraries"
   ]
  },
  {
   "cell_type": "code",
   "execution_count": 1,
   "metadata": {},
   "outputs": [
    {
     "name": "stdout",
     "output_type": "stream",
     "text": [
      "Populating the interactive namespace from numpy and matplotlib\n"
     ]
    }
   ],
   "source": [
    "\n",
    "# Load the libraries\n",
    "# special IPython command to prepare the notebook for matplotlib and other libraries\n",
    "%pylab inline\n",
    "import pandas as pd\n",
    "from datetime import datetime\n",
    "import pyodbc\n",
    "import xlrd\n",
    "import time\n",
    "import math\n",
    "import decimal\n",
    "import numpy as np\n",
    "import html5lib\n",
    "import numpy as np\n",
    "#import pandas_profiling\n",
    "import scipy.stats as stats\n",
    "import matplotlib.pyplot as plt\n",
    "import sklearn\n",
    "import seaborn as sns\n",
    "import sqlite3\n",
    "# special matplotlib argument for improved plots\n",
    "from matplotlib import rcParams\n",
    "sns.set_style(\"whitegrid\")\n",
    "sns.set_context(\"poster\")\n",
    "from pandas import DataFrame\n",
    "import matplotlib.pylab as plt\n",
    "%matplotlib inline\n",
    "from matplotlib.pylab import rcParams\n",
    "rcParams['figure.figsize'] = 15, 6\n",
    "from datetime import date\n"
   ]
  },
  {
   "cell_type": "code",
   "execution_count": 3,
   "metadata": {},
   "outputs": [],
   "source": [
    "cs = (\"DRIVER={ODBC Driver 13 for SQL Server};\"\n",
    "      \"SERVER=************;\"\n",
    "      \"DATABASE=***********;\"\n",
    "      \"Charset=utf-8;\"\n",
    "      \"uid=sqladmin;\"\n",
    "      \"pwd={*******};\"\n",
    "      )\n",
    "conn = pyodbc.connect(cs)\n",
    "cursor = conn.cursor()\n"
   ]
  },
  {
   "cell_type": "markdown",
   "metadata": {},
   "source": [
    "### Loading Data"
   ]
  },
  {
   "cell_type": "code",
   "execution_count": 5,
   "metadata": {},
   "outputs": [],
   "source": [
    "#cursor.execute('select * from ESI_Financials.dbo.Commodity_ESI')\n",
    "#for row in cursor:\n",
    "   # print (row)\n",
    "sql = \"select distinct E.*,S.* \\\n",
    "from ESI_Financials.dbo.Commodity_ESI AS E \\\n",
    "LEFT JOIN ESI_Financials.dbo.SSD_HHD_Family S on E.[Dell Part Num] = S.dell_item_nbr \\\n",
    "where E.[Transaction Type] = 'Net Demand'  \\\n",
    "and  E.[Reporting Unit] = 'Configured PE'  \\\n",
    "and E.Global_Parent_Name not like 'JD.com'\\\n",
    "and E.branddesc not like 'POWEREDGE R930'\\\n",
    "and E.transactiondateyear >= 2017\\\n",
    "and E.[Commodity Name] <> 'Chassis'\"\n",
    "data = pd.read_sql(sql,conn)"
   ]
  },
  {
   "cell_type": "code",
   "execution_count": 1,
   "metadata": {},
   "outputs": [],
   "source": [
    "data.shape"
   ]
  },
  {
   "cell_type": "code",
   "execution_count": 2,
   "metadata": {},
   "outputs": [],
   "source": [
    "data.head(5)"
   ]
  },
  {
   "cell_type": "markdown",
   "metadata": {},
   "source": [
    "## Types of Data Preprocessing:"
   ]
  },
  {
   "cell_type": "markdown",
   "metadata": {},
   "source": [
    "### 1- Data Cleanig\n",
    "### 2- Data Reduction"
   ]
  },
  {
   "cell_type": "markdown",
   "metadata": {},
   "source": [
    "## Data Cleaning"
   ]
  },
  {
   "cell_type": "markdown",
   "metadata": {},
   "source": [
    "### 1- Fill in missing values:\n",
    " #####  a- Ignore the Tuple\n",
    " #####  b- Use the mean to fill the missing values\n",
    " #####  c- Predict missing valuse using varios learing algorithms"
   ]
  },
  {
   "cell_type": "code",
   "execution_count": 10,
   "metadata": {},
   "outputs": [],
   "source": [
    "# find out the columns that have more than 70 % null\n",
    "nan_ratio_array = np.round(data.isnull().sum()/data.shape[0])"
   ]
  },
  {
   "cell_type": "code",
   "execution_count": 14,
   "metadata": {},
   "outputs": [],
   "source": [
    "# write the column names that are more than 70% null\n",
    "nan_ratio_array[nan_ratio_array >=0.7].index"
   ]
  },
  {
   "cell_type": "code",
   "execution_count": 14,
   "metadata": {},
   "outputs": [],
   "source": [
    "# drop the columns with more than 70% null values (axis = 1 means column)\n",
    "L1=data.drop((nan_ratio_array[nan_ratio_array >= 0.7].index),axis=1)"
   ]
  },
  {
   "cell_type": "code",
   "execution_count": 16,
   "metadata": {},
   "outputs": [],
   "source": [
    "# usually drop columns that have more than 50% null value. in this case, it is fine . no need to drop more\n",
    "\n",
    "nan_ratio_array_2 = (L1.isnull().sum()/data.shape[0])\n",
    "nan_ratio_array_2.max()"
   ]
  },
  {
   "cell_type": "code",
   "execution_count": 15,
   "metadata": {},
   "outputs": [],
   "source": [
    "#Remove columns that are \"NUM\"\n",
    "IDcol = []\n",
    "for col in L1.columns:\n",
    "   if \"ID\" in col.upper():\n",
    "      IDcol.append(col)\n",
    "IDcol"
   ]
  },
  {
   "cell_type": "code",
   "execution_count": 17,
   "metadata": {},
   "outputs": [],
   "source": [
    "L1.shape"
   ]
  },
  {
   "cell_type": "code",
   "execution_count": 18,
   "metadata": {},
   "outputs": [],
   "source": [
    "# select columns that theeir type is not object AND number of unique >15\n",
    "L1=L1.loc[:,~((L1.dtypes == object) & (L1.nunique() == 1))]\n",
    "L1.shape\n"
   ]
  },
  {
   "cell_type": "code",
   "execution_count": null,
   "metadata": {},
   "outputs": [],
   "source": [
    "L1=L1.fillna(L1.mean()) "
   ]
  },
  {
   "cell_type": "code",
   "execution_count": 29,
   "metadata": {},
   "outputs": [],
   "source": [
    "import seaborn\n",
    "import matplotlib.pyplot as plt\n",
    "import matplotlib\n",
    "matplotlib.style.use('ggplot')"
   ]
  },
  {
   "cell_type": "code",
   "execution_count": 31,
   "metadata": {},
   "outputs": [],
   "source": [
    "data[\"Part Quantity Extended Old\"] = data[\"Part Quantity Extended\"]"
   ]
  },
  {
   "cell_type": "code",
   "execution_count": 32,
   "metadata": {},
   "outputs": [],
   "source": [
    "from sklearn import preprocessing\n",
    "scaler = preprocessing.MinMaxScaler()"
   ]
  },
  {
   "cell_type": "code",
   "execution_count": 33,
   "metadata": {},
   "outputs": [],
   "source": [
    "#Scale data between 0 and 1\n",
    "def scaleColumns(df, cols_to_scale):\n",
    "    for col in cols_to_scale:\n",
    "        df[col] = pd.DataFrame(scaler.fit_transform(pd.DataFrame(data[col])),columns=[col])\n",
    "    return df"
   ]
  },
  {
   "cell_type": "code",
   "execution_count": 34,
   "metadata": {},
   "outputs": [],
   "source": [
    "scaled_df = scaleColumns(data,['Part Quantity Extended'])"
   ]
  },
  {
   "cell_type": "code",
   "execution_count": 3,
   "metadata": {},
   "outputs": [],
   "source": [
    "data[[\"Part Quantity Extended\",\"Part Quantity Extended Old\"]].head(5)"
   ]
  },
  {
   "cell_type": "code",
   "execution_count": 4,
   "metadata": {},
   "outputs": [],
   "source": [
    "fig = plt.figure(figsize=(1,1))\n",
    "df_items = data[[\"TransactionDateMonth\",\"Part Quantity Extended Old\"]]\n",
    "df_items.groupby(\"TransactionDateMonth\").sum().plot(kind=\"bar\")\n",
    "plt.savefig('C:/Users/laya_pouresmaeil/Desktop/figure.pdf') "
   ]
  },
  {
   "cell_type": "code",
   "execution_count": 5,
   "metadata": {},
   "outputs": [],
   "source": [
    "df_items = data[[\"TransactionDateMonth\",\"Part Quantity Extended\"]]\n",
    "df_items.groupby(\"TransactionDateMonth\").sum().plot(kind=\"bar\")\n",
    "#plt.savefig('C:/Users/laya_pouresmaeil/Desktop/figure2.pdf') "
   ]
  },
  {
   "cell_type": "code",
   "execution_count": 38,
   "metadata": {},
   "outputs": [],
   "source": [
    "data_Americas = data[data[\"RegionDesc\"]== 'Americas'] "
   ]
  },
  {
   "cell_type": "code",
   "execution_count": 6,
   "metadata": {},
   "outputs": [],
   "source": [
    "df_items = data_Americas[[\"TransactionDateMonth\",\"Part Quantity Extended\"]]\n",
    "df_items.groupby(\"TransactionDateMonth\").sum().plot(kind=\"bar\")\n",
    "#plt.savefig('C:/Users/laya_pouresmaeil/Desktop/figure2.pdf') "
   ]
  },
  {
   "cell_type": "code",
   "execution_count": 7,
   "metadata": {},
   "outputs": [],
   "source": [
    "df_items = data[[\"TransactionDateMonth\",\"Part Quantity Extended\"]]\n",
    "a=df_items.groupby(\"TransactionDateMonth\").sum()['Part Quantity Extended'].reset_index().sort_values(\"Part Quantity Extended\", ascending=False).head(10)\n",
    "#a.groupby('TransactionDateMonth').sum()['Part Quantity Extended'].plot(kind=\"bar\")\n"
   ]
  },
  {
   "cell_type": "code",
   "execution_count": 43,
   "metadata": {},
   "outputs": [],
   "source": [
    "column = [\"ESIUnique_PartNumber\",\"BaseSystemCode\",\"CPU Gen\",\"CPU Vendor\",\"Capacity\",\"Dell Segment Name\",\"Dim\",\"FamilyDesc\",\"FamilyName\",\"Form Factor\",\"Global_Parent_Name\",\"IDC Mainstream DOHS\",\"IDC Product\",\"Interface\",\"ProductDesc\",\"RegionDesc\",\"SegDesc\",\"Sockets\",\"Speed\",\"Supplier\",\"Swimlane\",\"branddesc\",\"country\",\"intel vertical\",\"product generation\",\"sales owner\",\"sub group\",\"vertical parent\"]"
   ]
  },
  {
   "cell_type": "code",
   "execution_count": 8,
   "metadata": {},
   "outputs": [],
   "source": [
    "for col in range(len(column)):\n",
    "    df_items = data[[\"TransactionDateMonth\", column[col],\"Part Quantity Extended\"]]\n",
    "    #a=df_items.groupby(['TransactionDateMonth',column[col]]).sum()['Part Quantity Extended'].reset_index().sort_values(\"Part Quantity Extended\", ascending=False).head(20)\n",
    "    df_items.groupby(['TransactionDateMonth',column[col]]).sum()['Part Quantity Extended'].unstack().plot.bar(stacked=True)\n",
    "    plt.savefig('C:/Users/laya_pouresmaeil/Desktop/Forecasting Model/Graph/Server/BarChart/'+column[col]+'.png')               "
   ]
  },
  {
   "cell_type": "code",
   "execution_count": 9,
   "metadata": {},
   "outputs": [],
   "source": [
    "# Check 2018M03 for now\n",
    "\n",
    "data_2018M03 = data[data[\"TransactionDateMonth\"]== '2018M03']\n",
    "data_2018M03"
   ]
  },
  {
   "cell_type": "code",
   "execution_count": 10,
   "metadata": {},
   "outputs": [],
   "source": [
    "\n",
    "# How many entries are there for Customer?\n",
    "data_2018M03['Global_Parent_Name'].value_counts().head(5)"
   ]
  },
  {
   "cell_type": "code",
   "execution_count": 11,
   "metadata": {},
   "outputs": [],
   "source": [
    "data.std()"
   ]
  },
  {
   "cell_type": "code",
   "execution_count": 12,
   "metadata": {},
   "outputs": [],
   "source": [
    "for col in range(len(column)):\n",
    "    df_items = data[[\"TransactionMonthNew\", column[col],\"Part Quantity Extended\"]]\n",
    "    #a=df_items.groupby(['TransactionMonthNew',column[col]]).sum()['Part Quantity Extended'].reset_index().sort_values(\"Part Quantity Extended\", ascending=False).head(10)\n",
    "    df_items.groupby(['TransactionMonthNew',column[col]]).sum()['Part Quantity Extended'].unstack().plot(kind=\"line\")\n",
    "    plt.savefig('C:/Users/laya_pouresmaeil/Desktop/Forecasting Model/Graph/Server/LineChart_Month/'+column[col]+'.png')               "
   ]
  },
  {
   "cell_type": "code",
   "execution_count": 67,
   "metadata": {},
   "outputs": [],
   "source": [
    "data_Part_Valume=data.groupby(['Dell Part Num']).sum()['Part Quantity Extended Old'].reset_index().sort_values(\"Part Quantity Extended Old\", ascending=False)"
   ]
  },
  {
   "cell_type": "code",
   "execution_count": 13,
   "metadata": {},
   "outputs": [],
   "source": [
    "data.describe()"
   ]
  },
  {
   "cell_type": "code",
   "execution_count": null,
   "metadata": {},
   "outputs": [
    {
     "data": {
      "text/plain": [
       "<matplotlib.axes._subplots.AxesSubplot at 0xbc2b3978>"
      ]
     },
     "execution_count": 82,
     "metadata": {},
     "output_type": "execute_result"
    }
   ],
   "source": [
    "data[[\"Part Quantity Extended Old\"]].sort_values(\"Part Quantity Extended Old\", ascending=False).plot(kind=\"bar\")"
   ]
  }
 ],
 "metadata": {
  "kernelspec": {
   "display_name": "Python 2",
   "language": "python",
   "name": "python2"
  },
  "language_info": {
   "codemirror_mode": {
    "name": "ipython",
    "version": 2
   },
   "file_extension": ".py",
   "mimetype": "text/x-python",
   "name": "python",
   "nbconvert_exporter": "python",
   "pygments_lexer": "ipython2",
   "version": "2.7.17"
  }
 },
 "nbformat": 4,
 "nbformat_minor": 2
}
