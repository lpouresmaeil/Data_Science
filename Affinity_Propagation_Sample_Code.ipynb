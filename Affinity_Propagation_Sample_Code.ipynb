{
 "cells": [
  {
   "cell_type": "markdown",
   "metadata": {},
   "source": [
    "#  Clustering - Affinity_Propagation"
   ]
  },
  {
   "cell_type": "code",
   "execution_count": 1,
   "metadata": {},
   "outputs": [],
   "source": [
    "from time import time\n",
    "from getpass import getpass\n",
    "from tqdm import tqdm\n",
    "\n",
    "import numpy as np\n",
    "import pandas as pd\n",
    "from scipy.stats import mode, iqr, kurtosis, skew\n",
    "\n",
    "import matplotlib.pyplot as plt\n",
    "import seaborn as sns\n",
    "\n",
    "import psycopg2\n",
    "\n",
    "from sklearn.preprocessing import StandardScaler\n",
    "from sklearn.cluster import KMeans\n",
    "from sklearn.manifold import TSNE"
   ]
  },
  {
   "cell_type": "markdown",
   "metadata": {},
   "source": [
    "## AffinityPropagation"
   ]
  },
  {
   "cell_type": "code",
   "execution_count": 37,
   "metadata": {},
   "outputs": [],
   "source": [
    "from sklearn.cluster import AffinityPropagation\n",
    "from sklearn import metrics\n",
    "np.random.seed(0)"
   ]
  },
  {
   "cell_type": "code",
   "execution_count": 38,
   "metadata": {},
   "outputs": [],
   "source": [
    "af = AffinityPropagation(preference=-50).fit(statistical_values_standardized_train)"
   ]
  },
  {
   "cell_type": "code",
   "execution_count": 39,
   "metadata": {},
   "outputs": [],
   "source": [
    "df_train_result['CLUSTER'] = af.labels_"
   ]
  },
  {
   "cell_type": "code",
   "execution_count": 40,
   "metadata": {},
   "outputs": [],
   "source": [
    "name_method  = 'affinity propagation'"
   ]
  },
  {
   "cell_type": "code",
   "execution_count": 41,
   "metadata": {},
   "outputs": [],
   "source": [
    "def cluster_detail(df, column, title):\n",
    "    cluster_info = pd.DataFrame(df.groupby([column])[column].count())\n",
    "    cluster_info.columns = ['COUNT_SKU_SITE']\n",
    "    cluster_info.reset_index(inplace=True)\n",
    "    cluster_info['COUNT_PCT'] = cluster_info['COUNT_SKU_SITE'].apply(lambda x: 100.0 * x / len(df))\n",
    "    \n",
    "    display(cluster_info)\n",
    "    \n",
    "    f, ax1 = plt.subplots(figsize = (12, 6))\n",
    "    ax1 = sns.barplot(x=column, y='COUNT_SKU_SITE', data=cluster_info)\n",
    "    ax1.set(xlabel=\"Cluster\", \n",
    "            ylabel=\"Count of SKU-Site Pairs in Training Set\", \n",
    "            title=title)\n",
    "    plt.show();"
   ]
  },
  {
   "cell_type": "code",
   "execution_count": 2,
   "metadata": {},
   "outputs": [],
   "source": [
    "cluster_detail(df_train_result, 'CLUSTER', name_method)"
   ]
  }
 ],
 "metadata": {
  "kernelspec": {
   "display_name": "Python 2",
   "language": "python",
   "name": "python2"
  },
  "language_info": {
   "codemirror_mode": {
    "name": "ipython",
    "version": 2
   },
   "file_extension": ".py",
   "mimetype": "text/x-python",
   "name": "python",
   "nbconvert_exporter": "python",
   "pygments_lexer": "ipython2",
   "version": "2.7.17"
  }
 },
 "nbformat": 4,
 "nbformat_minor": 4
}
